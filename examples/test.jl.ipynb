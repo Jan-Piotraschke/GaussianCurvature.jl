{
 "cells": [
  {
   "cell_type": "code",
   "execution_count": 1,
   "id": "1f985988",
   "metadata": {},
   "outputs": [
    {
     "name": "stderr",
     "output_type": "stream",
     "text": [
      "\u001b[32m\u001b[1m    Updating\u001b[22m\u001b[39m registry at `~/.julia/registries/General.toml`\n",
      "\u001b[32m\u001b[1m   Resolving\u001b[22m\u001b[39m package versions...\n",
      "\u001b[32m\u001b[1m  No Changes\u001b[22m\u001b[39m to `~/.julia/environments/v1.7/Project.toml`\n",
      "\u001b[32m\u001b[1m  No Changes\u001b[22m\u001b[39m to `~/.julia/environments/v1.7/Manifest.toml`\n"
     ]
    },
    {
     "data": {
      "text/plain": [
       "surfature"
      ]
     },
     "execution_count": 1,
     "metadata": {},
     "output_type": "execute_result"
    }
   ],
   "source": [
    "using Pkg \n",
    "Pkg.add(\"LinearAlgebra\")\n",
    "\n",
    "using LinearAlgebra\n",
    "\n",
    "\"Numerical `gradient` calculation over 1st matrix axis Y (rows)\"\n",
    "function gradienty(v::AbstractMatrix)\n",
    "    dv  = diff(v; dims=1)/2\n",
    "    a   = [dv[[1],:]; dv]\n",
    "    a .+= [dv; dv[[end],:]]\n",
    "    a\n",
    "end\n",
    "\n",
    "\"Numerical `gradient` calculation over 2nd matrix axis X (cols)\"\n",
    "function gradientx(v::AbstractMatrix)\n",
    "    dv  = diff(v; dims=2)/2\n",
    "    a   = [dv[:,[1]] dv]\n",
    "    a .+= [dv dv[:,[end]]]\n",
    "    a\n",
    "end\n",
    "\n",
    "\"\"\"\n",
    "Numerical gradient of a matrix over first 2 axes - Y and X\n",
    "\n",
    "Output corresponds to matlab `gradient` function.\n",
    "First output parameter is gradient matrix for 2nd axis - X. Second output is for 1st axis - Y\n",
    "\"\"\"\n",
    "function gradient(v::AbstractMatrix)\n",
    "    return gradientx(v), gradienty(v)\n",
    "end\n",
    "\n",
    "\"\"\"\n",
    "Calculate dot product over matrices 1st axis Y (rows)\n",
    "\n",
    "Returns: vector with elements which are dot product of corresponding matrices rows\n",
    "\"\"\"\n",
    "function doty(a::AbstractMatrix, b::AbstractMatrix)\n",
    "    [dot(a[i,:], b[i,:]) for i in 1:size(a)[1]]\n",
    "end\n",
    "\n",
    "\"\"\"\n",
    "Calculate dot product over matrices 2nd axis X (cols)\n",
    "\n",
    "Returns: vector with elements which are dot product of corresponding matrices rows\n",
    "\"\"\"\n",
    "function dotx(a::AbstractMatrix, b::AbstractMatrix)\n",
    "    [dot(a[:,i], b[:,i]) for i in 1:size(a)[2]]'\n",
    "end\n",
    "\n",
    "\"\"\"\n",
    "Calculate cross product over matrices 1st axis Y (rows)\n",
    "\n",
    "Returns: vector with elements which are cross product of corresponding matrices rows\n",
    "\"\"\"\n",
    "function crossy(a::AbstractMatrix, b::AbstractMatrix)\n",
    "    c = [cross(a[i,:], b[i,:]) for i in 1:size(a)[1]]\n",
    "    Matrix(hcat(c...)')\n",
    "end\n",
    "\n",
    "\"\"\"\n",
    "Calculate cross product over matrices 2nd axis X (cols)\n",
    "\n",
    "Returns: vector with elements which are cross product of corresponding matrices rows\n",
    "\"\"\"\n",
    "function crossx(a::AbstractMatrix, b::AbstractMatrix)\n",
    "    c = [cross(a[:,i], b[:,i]) for i in 1:size(a)[2]]'\n",
    "    Matrix(vcat(c...)')\n",
    "end\n",
    "\n",
    "\"\"\"\n",
    "Gaussian, mean, min and max curvatures of a surface\n",
    "\n",
    "Gaussian and Mean curvatures\n",
    "`k,h = surfature(x,y,z)`, where x,y,z are 2d arrays of points on the surface.\n",
    "k and h are the gaussian and mean curvatures, respectively.\n",
    "\n",
    "`surfature` returns 2 additional arguments: `k,h,pmax,pmin = surfature(x,y,z)`.\n",
    "pmax and pmin are the minimum and maximum curvatures at each point, respectively.\n",
    "\n",
    "Function is shamelessly plagiated from matlab one.\n",
    "See https://www.mathworks.com/matlabcentral/fileexchange/11168-surface-curvature\n",
    "\"\"\"\n",
    "function surfature(X::AbstractMatrix, Y::AbstractMatrix, Z::AbstractMatrix)\n",
    "\n",
    "    # First Derivatives\n",
    "    Xu,Xv = gradient(X)\n",
    "    Yu,Yv = gradient(Y)\n",
    "    Zu,Zv = gradient(Z)\n",
    "\n",
    "    # Second Derivatives\n",
    "    Xuu,Xuv = gradient(Xu)\n",
    "    Yuu,Yuv = gradient(Yu)\n",
    "    Zuu,Zuv = gradient(Zu)\n",
    "\n",
    "    Xuv,Xvv = gradient(Xv)\n",
    "    Yuv,Yvv = gradient(Yv)\n",
    "    Zuv,Zvv = gradient(Zv)\n",
    "\n",
    "    # Reshape 2D Arrays into Vectors\n",
    "    Xu = Xu[:];   Yu = Yu[:];   Zu = Zu[:];\n",
    "    Xv = Xv[:];   Yv = Yv[:];   Zv = Zv[:];\n",
    "    Xuu = Xuu[:]; Yuu = Yuu[:]; Zuu = Zuu[:];\n",
    "    Xuv = Xuv[:]; Yuv = Yuv[:]; Zuv = Zuv[:];\n",
    "    Xvv = Xvv[:]; Yvv = Yvv[:]; Zvv = Zvv[:];\n",
    "\n",
    "    Xu          =   [Xu Yu Zu]\n",
    "    Xv          =   [Xv Yv Zv]\n",
    "    Xuu         =   [Xuu Yuu Zuu]\n",
    "    Xuv         =   [Xuv Yuv Zuv]\n",
    "    Xvv         =   [Xvv Yvv Zvv]\n",
    "\n",
    "    # First fundamental Coeffecients of the surface (E,F,G)\n",
    "    E           =   doty(Xu,Xu)\n",
    "    F           =   doty(Xu,Xv)\n",
    "    G           =   doty(Xv,Xv)\n",
    "\n",
    "    m           =   crossy(Xu,Xv)\n",
    "    p           =   sqrt.(doty(m,m))\n",
    "    n           =   m./[p p p]\n",
    "\n",
    "    # Second fundamental Coeffecients of the surface (L,M,N)\n",
    "    L           =   doty(Xuu,n)\n",
    "    M           =   doty(Xuv,n)\n",
    "    N           =   doty(Xvv,n)\n",
    "\n",
    "    s, t = size(Z)\n",
    "\n",
    "    # Gaussian Curvature\n",
    "    K = (L .* N - M .^ 2) ./ (E .* G - F .^ 2)\n",
    "    K = reshape(K,s,t)\n",
    "\n",
    "    # Mean Curvature\n",
    "    H = (E .* N + G .* L - 2 .* F .* M) ./ (2 * (E .* G - F .^ 2))\n",
    "    H = reshape(H,s,t)\n",
    "\n",
    "    # Principal Curvatures\n",
    "    Pmax = H + sqrt.(H .^ 2 - K)\n",
    "    Pmin = H - sqrt.(H .^ 2 - K)\n",
    "\n",
    "    K, H, Pmax, Pmin\n",
    "end"
   ]
  },
  {
   "cell_type": "markdown",
   "id": "5df4596c",
   "metadata": {},
   "source": [
    "https://www.mathworks.com/matlabcentral/fileexchange/11168-surface-curvature"
   ]
  },
  {
   "cell_type": "markdown",
   "id": "7b0b4129",
   "metadata": {},
   "source": [
    "The inputs (X,Y,Z) are 2D arrays corresponding to the surface being analyzed."
   ]
  },
  {
   "cell_type": "code",
   "execution_count": 2,
   "id": "ac340d9f",
   "metadata": {},
   "outputs": [
    {
     "data": {
      "text/plain": [
       "([-0.7318233495177551 -13.905340222586759 … 1.6409225641833678 -0.1377796000996903; -0.7850043790616301 16.848581785825864 … -14.995726705940697 -1.3205938226987266; … ; -2.980755520671766 -917.3391637525682 … 34.86098843696948 14.094810568655108; -4.486729634815874 2.5057847733950296 … -1.8098794715811741 -0.8495099306061725], [0.1836033894519483 1.7562437189589803 … -1.484058273486071 -0.10850868704986469; -1.5176471320489613 -4.732778819577478 … -37.27741683328525 -0.34700727266247566; … ; 0.2076831946484276 192.13592119336406 … -23.954995416743476 -14.039210703554739; -0.41864438049598024 -2.468946600708133 … 2.9158557835478853 0.2784386413677523], [1.0585511331121047 5.878104005646247 … -0.7347209696508156 0.2782130931293435; 0.23969665801548334 -2.376804802484904 … 0.20059715449750115 0.8534125997069283; … ; 1.9466161519561964 386.6444078374567 … -0.7390350235305441 -0.5112904417350812; 1.7405204469631783 -0.5742401475198784 … 6.127100779189113 1.2412667712086354], [-0.6913443542082082 -2.3656165677282854 … -2.2333955773213265 -0.4952304672290728; -3.274990922113406 -7.088752836670052 … -74.755430821068 -1.5474271450318797; … ; -1.531249762659341 -2.372565450728615 … -47.17095580995641 -27.567130965374396; -2.5778092079551387 -4.363653053896387 … -0.2953892120933421 -0.6843894884731307])"
      ]
     },
     "execution_count": 2,
     "metadata": {},
     "output_type": "execute_result"
    }
   ],
   "source": [
    "X = rand(5,5)\n",
    "Y = rand(5,5)\n",
    "Z = rand(5,5)\n",
    "\n",
    "# gaussian\n",
    "surface, curvat_mean, curvat_principal_1, curvat_principal_2 = surfature(X,Y,Z)"
   ]
  },
  {
   "cell_type": "markdown",
   "id": "766421f3",
   "metadata": {},
   "source": [
    "## GLMakie.jl (uses OpenGL as a backend) let's you make interactive 2D and 3D plotting "
   ]
  },
  {
   "cell_type": "code",
   "execution_count": 3,
   "id": "76fcc258",
   "metadata": {},
   "outputs": [
    {
     "name": "stderr",
     "output_type": "stream",
     "text": [
      "\u001b[32m\u001b[1m   Resolving\u001b[22m\u001b[39m package versions...\n",
      "\u001b[32m\u001b[1m  No Changes\u001b[22m\u001b[39m to `~/.julia/environments/v1.7/Project.toml`\n",
      "\u001b[32m\u001b[1m  No Changes\u001b[22m\u001b[39m to `~/.julia/environments/v1.7/Manifest.toml`\n",
      "\u001b[32m\u001b[1m   Resolving\u001b[22m\u001b[39m package versions...\n",
      "\u001b[32m\u001b[1m  No Changes\u001b[22m\u001b[39m to `~/.julia/environments/v1.7/Project.toml`\n",
      "\u001b[32m\u001b[1m  No Changes\u001b[22m\u001b[39m to `~/.julia/environments/v1.7/Manifest.toml`\n"
     ]
    }
   ],
   "source": [
    "# Plot the object\n",
    "Pkg.add(\"GLMakie\")\n",
    "Pkg.add(\"Meshes\")\n",
    "\n",
    "using GLMakie\n",
    "GLMakie.activate!()\n"
   ]
  },
  {
   "cell_type": "code",
   "execution_count": 4,
   "id": "bd1c8f31",
   "metadata": {},
   "outputs": [
    {
     "data": {
      "text/plain": [
       "Figure()"
      ]
     },
     "execution_count": 4,
     "metadata": {},
     "output_type": "execute_result"
    }
   ],
   "source": [
    "function peaks(; n=49)\n",
    "    x = LinRange(-3, 3, n)\n",
    "    y = LinRange(-3, 3, n)\n",
    "    a = 3 * (1 .- x') .^ 2 .* exp.(-(x' .^ 2) .- (y .+ 1) .^ 2)\n",
    "    b = 10 * (x' / 5 .- x' .^ 3 .- y .^ 5) .* exp.(-x' .^ 2 .- y .^ 2)\n",
    "    c = 1 / 3 * exp.(-(x' .+ 1) .^ 2 .- y .^ 2)\n",
    "    return (x, y, a .- b .- c)\n",
    "end\n",
    "\n",
    "\n",
    "function plot_peaks_function()\n",
    "    x, y, z = peaks()\n",
    "    x2, y2, z2 = peaks(; n=15)\n",
    "    fig = Figure(resolution=(1200, 400))\n",
    "    axs = [Axis3(fig[1, i]; aspect=(1, 1, 1)) for i = 1:3]\n",
    "    hm = surface!(axs[1], x, y, z)\n",
    "    wireframe!(axs[2], x2, y2, z2)\n",
    "    contour3d!(axs[3], x, y, z; levels=20)\n",
    "    Colorbar(fig[1, 4], hm, height=Relative(0.5))\n",
    "    fig\n",
    "end\n",
    "plot_peaks_function()"
   ]
  },
  {
   "cell_type": "code",
   "execution_count": null,
   "id": "66f3f2b1",
   "metadata": {},
   "outputs": [],
   "source": [
    "# by Lazaro Alonso\n",
    "using GLMakie, Meshes\n",
    "let\n",
    "    u = LinRange(0, 1, 50)\n",
    "    v = LinRange(0, 2π, 50)\n",
    "    X1 = [u for u in u, v in v]\n",
    "    Y1 = [(u^4 - u^2) * cos(v) for u in u, v in v]\n",
    "    Z1 = [(u^4 - u^2) * sin(v) for u in u, v in v]\n",
    "\n",
    "    fig, ax, pltobj = surface(X1, Y1, Z1; shading = true, ambient = Vec3f(0.65, 0.65, 0.65),\n",
    "        backlight = 1.0f0, color = sqrt.(X1 .^ 2 .+ Y1 .^ 2 .+ Z1 .^ 2),\n",
    "        colormap = :viridis, transparency = true,\n",
    "        figure = (; resolution = (1200, 800), fontsize = 22))\n",
    "    Colorbar(fig[1, 2], pltobj, height = Relative(0.5))\n",
    "    colsize!(fig.layout, 1, Aspect(1, 1.0))\n",
    "    display(fig)\n",
    "end;"
   ]
  },
  {
   "cell_type": "code",
   "execution_count": null,
   "id": "ec54ffc2",
   "metadata": {},
   "outputs": [],
   "source": []
  }
 ],
 "metadata": {
  "kernelspec": {
   "display_name": "Julia 1.7.0-rc2",
   "language": "julia",
   "name": "julia-1.7"
  },
  "language_info": {
   "file_extension": ".jl",
   "mimetype": "application/julia",
   "name": "julia",
   "version": "1.7.3"
  }
 },
 "nbformat": 4,
 "nbformat_minor": 5
}
