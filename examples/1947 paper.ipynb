{
 "cells": [
  {
   "cell_type": "markdown",
   "id": "ca1cf498",
   "metadata": {},
   "source": [
    "Check out https://docs.sciml.ai/ModelingToolkit/dev/"
   ]
  },
  {
   "cell_type": "code",
   "execution_count": 14,
   "id": "cf08545d",
   "metadata": {},
   "outputs": [],
   "source": [
    "using ModelingToolkit\n",
    "using LinearAlgebra"
   ]
  },
  {
   "cell_type": "code",
   "execution_count": 16,
   "id": "15f40d11",
   "metadata": {},
   "outputs": [
    {
     "data": {
      "text/plain": [
       "Differential(v) ∘ Differential(v)"
      ]
     },
     "execution_count": 16,
     "metadata": {},
     "output_type": "execute_result"
    }
   ],
   "source": [
    "@parameters t  # Independent variables: unsere Variablen, die die Ableitung formen\n",
    "@variables u, v\n",
    "surf_coord = @variables x(u,v), y(u,v), z(u,v)  # surface coordinates parametrised by u,v\n",
    "\n",
    "D = Symbolics.Differential(t)\n",
    "Du = Symbolics.Differential(u)\n",
    "Dv = Symbolics.Differential(v)\n",
    "Duu = Du^2\n",
    "Dvv = Dv^2\n"
   ]
  },
  {
   "cell_type": "markdown",
   "id": "95e226fc",
   "metadata": {},
   "source": [
    "first fundamental form https://en.wikipedia.org/wiki/First_fundamental_form"
   ]
  },
  {
   "cell_type": "code",
   "execution_count": 17,
   "id": "7231049b",
   "metadata": {},
   "outputs": [
    {
     "ename": "LoadError",
     "evalue": "MethodError: no method matching iterate(::Term{Vector{Num}, Nothing})\n\u001b[0mClosest candidates are:\n\u001b[0m  iterate(\u001b[91m::Union{LinRange, StepRangeLen}\u001b[39m) at range.jl:872\n\u001b[0m  iterate(\u001b[91m::Union{LinRange, StepRangeLen}\u001b[39m, \u001b[91m::Integer\u001b[39m) at range.jl:872\n\u001b[0m  iterate(\u001b[91m::T\u001b[39m) where T<:Union{Base.KeySet{<:Any, <:Dict}, Base.ValueIterator{<:Dict}} at dict.jl:712\n\u001b[0m  ...",
     "output_type": "error",
     "traceback": [
      "MethodError: no method matching iterate(::Term{Vector{Num}, Nothing})\n\u001b[0mClosest candidates are:\n\u001b[0m  iterate(\u001b[91m::Union{LinRange, StepRangeLen}\u001b[39m) at range.jl:872\n\u001b[0m  iterate(\u001b[91m::Union{LinRange, StepRangeLen}\u001b[39m, \u001b[91m::Integer\u001b[39m) at range.jl:872\n\u001b[0m  iterate(\u001b[91m::T\u001b[39m) where T<:Union{Base.KeySet{<:Any, <:Dict}, Base.ValueIterator{<:Dict}} at dict.jl:712\n\u001b[0m  ...",
      "",
      "Stacktrace:",
      " [1] dot(x::Term{Vector{Num}, Nothing}, y::Term{Vector{Num}, Nothing})",
      "   @ LinearAlgebra /Applications/Julia-1.8.app/Contents/Resources/julia/share/julia/stdlib/v1.8/LinearAlgebra/src/generic.jl:843",
      " [2] top-level scope",
      "   @ In[17]:2",
      " [3] eval",
      "   @ ./boot.jl:368 [inlined]",
      " [4] include_string(mapexpr::typeof(REPL.softscope), mod::Module, code::String, filename::String)",
      "   @ Base ./loading.jl:1428"
     ]
    }
   ],
   "source": [
    "# The coefficients of the first fundamental form may be found by taking the dot product of the partial derivatives.\n",
    "E = dot(Du(surf_coord), Du(surf_coord))\n",
    "F = dot(Du(surf_coord), Dv(surf_coord))\n",
    "G = dot(Dv(surf_coord), Dv(surf_coord))\n",
    "\n",
    "# ... and their corresponding derivatives\n",
    "Ev = Dv(E)\n",
    "Eu = Du(E)\n",
    "Fv = Dv(F)\n",
    "Fu = Du(F)\n",
    "Gv = Dv(G)\n",
    "Gu = Du(G)\n",
    "\n",
    "H = sqrt(E*G - F^2) "
   ]
  },
  {
   "cell_type": "markdown",
   "id": "1dc54061",
   "metadata": {},
   "source": [
    "Christoffel symbols: parameters derived from the coefficients\n"
   ]
  },
  {
   "cell_type": "code",
   "execution_count": 4,
   "id": "4b3a6dba",
   "metadata": {},
   "outputs": [
    {
     "data": {
      "text/latex": [
       "$$ \\begin{equation}\n",
       "NaN + \\infty \\left( \\frac{\\mathrm{d}}{\\mathrm{d}u} x\\left( u, v \\right) \\right)^{2} \\frac{\\mathrm{d}}{\\mathrm{d}v} \\left( \\frac{\\mathrm{d}}{\\mathrm{d}v} x\\left( u, v \\right) \\right)^{2} + \\infty \\frac{\\mathrm{d}}{\\mathrm{d}u} \\left( \\frac{\\mathrm{d}}{\\mathrm{d}v} x\\left( u, v \\right) \\right)^{2} \\frac{\\mathrm{d}}{\\mathrm{d}u} x\\left( u, v \\right) \\frac{\\mathrm{d}}{\\mathrm{d}v} x\\left( u, v \\right) - \\infty \\frac{\\mathrm{d}}{\\mathrm{d}v} \\frac{\\mathrm{d}}{\\mathrm{d}u} x\\left( u, v \\right) \\frac{\\mathrm{d}}{\\mathrm{d}v} x\\left( u, v \\right) \\frac{\\mathrm{d}}{\\mathrm{d}u} x\\left( u, v \\right) \\frac{\\mathrm{d}}{\\mathrm{d}v} x\\left( u, v \\right)\n",
       "\\end{equation}\n",
       " $$"
      ],
      "text/plain": [
       "NaN + Inf*(Differential(u)(x(u, v))^2)*Differential(v)(Differential(v)(x(u, v))^2) + Inf*Differential(u)(Differential(v)(x(u, v))^2)*Differential(u)(x(u, v))*Differential(v)(x(u, v)) - Inf*Differential(v)(Differential(u)(x(u, v))*Differential(v)(x(u, v)))*Differential(u)(x(u, v))*Differential(v)(x(u, v))"
      ]
     },
     "execution_count": 4,
     "metadata": {},
     "output_type": "execute_result"
    }
   ],
   "source": [
    "l = (1/H^2)*(G*Eu - 2*F*Fu + F*Ev)\n",
    "m = (1/H^2)*(G*Ev - F*Gu)\n",
    "n = (1/H^2)*(2*G*Fv - G*Gu - F*Gv)\n",
    "λ = (1/H^2)*(2*E*Fu - E*Ev + F*Eu)\n",
    "μ = (1/H^2)*(E*Gu - F*Ev)\n",
    "ν = (1/H^2)*(E*Gv - 2*F*Fv + F*Gu)"
   ]
  },
  {
   "cell_type": "code",
   "execution_count": 23,
   "id": "a4e5ddcd",
   "metadata": {},
   "outputs": [
    {
     "data": {
      "text/latex": [
       "$$ \\begin{equation}\n",
       "\\frac{\\mathrm{d}^{2}}{\\mathrm{d}t^{2}} z\\left( u, v \\right) = \\left( \\frac{\\mathrm{d}}{\\mathrm{d}t} u \\right)^{2} \\frac{\\mathrm{d}^{2}}{\\mathrm{d}u^{2}} z\\left( u, v \\right) + \\left( \\frac{\\mathrm{d}}{\\mathrm{d}t} v \\right)^{2} \\frac{\\mathrm{d}^{2}}{\\mathrm{d}v^{2}} z\\left( u, v \\right) + \\frac{\\mathrm{d}^{2}}{\\mathrm{d}t^{2}} u \\frac{\\mathrm{d}}{\\mathrm{d}u} z\\left( u, v \\right) + \\frac{\\mathrm{d}^{2}}{\\mathrm{d}t^{2}} v \\frac{\\mathrm{d}}{\\mathrm{d}v} z\\left( u, v \\right) + 2 \\frac{\\mathrm{d}}{\\mathrm{d}t} u \\frac{\\mathrm{d}}{\\mathrm{d}t} v \\frac{\\mathrm{d}^{2}}{\\mathrm{d}v\\mathrm{d}u} z\\left( u, v \\right)\n",
       "\\end{equation}\n",
       " $$"
      ],
      "text/plain": [
       "Differential(t)(Differential(t)(z(u, v))) ~ (Differential(t)(u)^2)*Differential(u)(Differential(u)(z(u, v))) + (Differential(t)(v)^2)*Differential(v)(Differential(v)(z(u, v))) + Differential(t)(Differential(t)(u))*Differential(u)(z(u, v)) + Differential(t)(Differential(t)(v))*Differential(v)(z(u, v)) + 2Differential(t)(u)*Differential(t)(v)*Differential(v)(Differential(u)(z(u, v)))"
      ]
     },
     "execution_count": 23,
     "metadata": {},
     "output_type": "execute_result"
    }
   ],
   "source": [
    "# # velocity\n",
    "# D(surf_coord) ~ Du(surf_coord)*D(u) + Dv(surf_coord)*D(v)\n",
    "\n",
    "# # acceleration \n",
    "# D(D(surf_coord)) ~ Du(surf_coord)*D(D(u)) + Duu(surf_coord)*D(u)^2 + Dv(surf_coord)*D(D(v)) + Dvv(surf_coord)*D(v)^2 + 2*Dv(Du(surf_coord))*D(u)*D(v)\n",
    "\n",
    "# velocity\n",
    "D(x) ~ Du(x)*D(u) + Dv(x)*D(v)\n",
    "D(y) ~ Du(y)*D(u) + Dv(y)*D(v)\n",
    "D(z) ~ Du(z)*D(u) + Dv(z)*D(v)\n",
    "\n",
    "\n",
    "# acceleration \n",
    "D(D(x)) ~ Du(x)*D(D(u)) + Duu(x)*D(u)^2 + Dv(x)*D(D(v)) + Dvv(x)*D(v)^2 + 2*Dv(Du(x))*D(u)*D(v)\n",
    "D(D(y)) ~ Du(y)*D(D(u)) + Duu(y)*D(u)^2 + Dv(y)*D(D(v)) + Dvv(y)*D(v)^2 + 2*Dv(Du(y))*D(u)*D(v)\n",
    "D(D(z)) ~ Du(z)*D(D(u)) + Duu(z)*D(u)^2 + Dv(z)*D(D(v)) + Dvv(z)*D(v)^2 + 2*Dv(Du(z))*D(u)*D(v)"
   ]
  },
  {
   "cell_type": "markdown",
   "id": "1e60fcaa",
   "metadata": {},
   "source": [
    "The generalised **force vectors** $\\psi$ and $\\phi$ in the 2D mapping"
   ]
  },
  {
   "cell_type": "code",
   "execution_count": 6,
   "id": "f7adcba4",
   "metadata": {},
   "outputs": [
    {
     "data": {
      "text/plain": [
       "0"
      ]
     },
     "execution_count": 6,
     "metadata": {},
     "output_type": "execute_result"
    }
   ],
   "source": [
    "force = [2,1,1]\n",
    "\n",
    "component_1 = force[1]*Du(x) + force[2]*Du(y) + force[3]*Du(z)\n",
    "component_2 = force[1]*Dv(x) + force[2]*Dv(y) + force[3]*Dv(z)\n",
    "\n",
    "# ϕ = G*component_1 - F*component_2\n",
    "# ψ = -F*component_1 + F*component_2\n",
    "\n",
    "# TEMP: set the force to 0 \n",
    "ϕ = 0\n",
    "ψ = 0"
   ]
  },
  {
   "cell_type": "markdown",
   "id": "07d0bacf",
   "metadata": {},
   "source": [
    "Equations of motion of an unit mass particle  \n",
    "NOTE: '~' indicates that it is an equation"
   ]
  },
  {
   "cell_type": "code",
   "execution_count": 7,
   "id": "7684dc3b",
   "metadata": {},
   "outputs": [
    {
     "data": {
      "text/plain": [
       "Any[]"
      ]
     },
     "execution_count": 7,
     "metadata": {},
     "output_type": "execute_result"
    }
   ],
   "source": [
    "eqs = [D(D(u)) ~ ϕ - l*D(u)^2 - 2*m*D(u)*D(v) - n*D(v)^2,\n",
    "     D(D(v)) ~ ψ - λ*D(u)^2 - 2*μ*D(u)*D(v) - ν*D(v)^2] \n",
    "    \n",
    "bcs = []"
   ]
  },
  {
   "cell_type": "markdown",
   "id": "fc0d1d24",
   "metadata": {},
   "source": [
    "Gaussian Peak"
   ]
  },
  {
   "cell_type": "code",
   "execution_count": 8,
   "id": "f77b9f11",
   "metadata": {},
   "outputs": [],
   "source": [
    "# x(u_,v_) = u\n",
    "# y(u_,v_) = v\n",
    "# a*exp(-(abs(x-x0)^2)/c)"
   ]
  }
 ],
 "metadata": {
  "kernelspec": {
   "display_name": "Julia 1.8.2",
   "language": "julia",
   "name": "julia-1.8"
  },
  "language_info": {
   "file_extension": ".jl",
   "mimetype": "application/julia",
   "name": "julia",
   "version": "1.8.2"
  }
 },
 "nbformat": 4,
 "nbformat_minor": 5
}
